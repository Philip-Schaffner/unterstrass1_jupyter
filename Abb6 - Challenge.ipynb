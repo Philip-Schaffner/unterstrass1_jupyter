{
 "cells": [
  {
   "cell_type": "markdown",
   "metadata": {},
   "source": [
    "# Challenge\n",
    "Diesmal fangen Sie mit einem leeren Programm an. Ihre Aufgabe ist es, ein eigenes Zahlenspiel zu entwerfen. Fügen Sie eine *vernünftige* Menge Kommentare ein, eine Titelzeile mit Autor/in und Datum und einer kurzen Beschreibung. Sie sollten auch in dem Programm einzelne Teile des Programms erklären.\n",
    "Ihr Programm sollte mindestens 5 Fragen haben. Sie entscheiden, welche Fragen Sie stellen wollen und was der Schwierigkeitsgrad der Frage ist.\n",
    "\n",
    "#### Beispiel\n",
    "- Wieviele Sekunden hat es in einer Stunde?\n",
    "- Wenn ein Dreick zwei 45°-Winkel hat, wie gross ist der letzte Winkel?\n",
    "- Wenn $a = 2b -5$ und $b = 6$, wie gross ist $a$?\n",
    "- Welcher Club hat am öftesten die Champion's League gewonnen? (1) FC Bayern München, (2) Real Madrid, (3) FC Barcelona\n",
    "\n",
    "#### Erfolgskriterien\n",
    "\n",
    "**Minimum:**\n",
    "- Ein Spiel programmieren, das läuft.\n",
    "- Genug Kommentare verwenden, so dass man das Programm versteht.\n",
    "- Einen Punktestand führen.\n",
    "\n",
    "**Fortgeschritten:***\n",
    "- Dem Benutzer/die Benutzerin zu Beginn einige Fragen stellen (z.B. wie heisst du?) und die Antwort im Verlauf des Spiels benutzen.\n",
    "- Den Punktestand nach jeder Frage anzeigen.\n",
    "- Eine Rückmeldung geben am Ende des Spiels basierend auf dem Punktestand.\n",
    "- In einem Kommentar eine potentielle zukünftige Erweiterung des Spiels beschreiben.\n",
    "- Unterschiedlich viele Punkte geben für unterschiedlich schwierige Fragen.\n",
    "\n",
    "**Profi:***\n",
    "- Mehr Fragen integrieren, die im Verlauf des Spiels schwieriger werden.\n",
    "- Dem Benutzer/der Benutzerin bei einer falsch beantworteten Frage noch eine Chance geben - die dann aber weniger Punkte gibt.\n",
    "- Dem Benutzer/der Benutzerin während dem Spiel Feedback geben zur Motivation.\n",
    "- In einem Kommentar beschreiben, wie eine zukünftige Erweiterung des Spiels implementiert werden könnte."
   ]
  }
 ],
 "metadata": {
  "kernelspec": {
   "display_name": "Python 3",
   "language": "python",
   "name": "python3"
  },
  "language_info": {
   "codemirror_mode": {
    "name": "ipython",
    "version": 3
   },
   "file_extension": ".py",
   "mimetype": "text/x-python",
   "name": "python",
   "nbconvert_exporter": "python",
   "pygments_lexer": "ipython3",
   "version": "3.7.3"
  }
 },
 "nbformat": 4,
 "nbformat_minor": 4
}
