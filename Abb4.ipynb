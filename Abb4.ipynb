{
 "cells": [
  {
   "cell_type": "markdown",
   "metadata": {},
   "source": [
    "# Ein Mathe-Quiz\n",
    "In der vorletzten Aufgabe haben wir eine erste Version unseres Chatbots programmiert. Dieser konnte ein paar Fragen stellen und die Eingaben jeweils in Antworten einbauen. Sie erinnern sich:"
   ]
  },
  {
   "cell_type": "code",
   "execution_count": null,
   "metadata": {},
   "outputs": [],
   "source": [
    "print(\"Bitte gib deinen Namen ein:\")\n",
    "my_name = input ()\n",
    "print(\"Schön, dich kennenzulernen, \" + my_name)"
   ]
  },
  {
   "cell_type": "markdown",
   "metadata": {},
   "source": [
    "### Aufgabe 1\n",
    "Um noch einmal zu repetieren, was wir das letzte mal gemacht haben, lassen Sie uns den Chatbot oben noch einmal um eine Frage erweitern. Programmieren Sie eine weitere Frage ein, die den Benutzer/die Benutzerin nach einer Feriendestination fragt. Am Ende sollte es die folgende Antwort geben: \"So, [Name], du möchtest also nach [Destination] in die Ferien fahren\". In den eckigen Klammern soll jeweils das stehen, was eingegeben wird.\n",
    "\n",
    "### Kommentare\n",
    "An dieser Stelle wollen wir uns anschauen, wie wir Code *kommentieren* können. Ein Kommentar ist Text innerhalb unseres Programms, der sich nicht auf die Verarbeitung des Programms auswirkt, sondern nur der Programmiererin/dem Programmierer hilft, den Code besser zu verstehen oder sich zu erinnern, was dieser tut. Hier sehen Sie ein Beispiel:"
   ]
  },
  {
   "cell_type": "code",
   "execution_count": null,
   "metadata": {},
   "outputs": [],
   "source": [
    "#Dieses Programm fragt den Benutzer/die Benutzerin nach dem Namen\n",
    "print(\"Bitte gib deinen Namen ein:\") #gibt eine Nachricht aus\n",
    "my_name = input () #speichert die Eingabe in der Variable my_name\n",
    "print(\"Schön, dich kennenzulernen, \" + my_name) #zeigt eine Nachricht mit dem Namen an"
   ]
  },
  {
   "cell_type": "markdown",
   "metadata": {},
   "source": [
    "Der Text hinter dem #-Zeichen wird von Python automatisch als Kommentar erkannt. Kommentare werden grün eingefärbt und beeinflussen das Programm nicht.\n",
    "\n",
    "### Aufgabe 2\n",
    "Fügen Sie im Programm aus Aufgabe 1 eine Kommentar für jede Zeile Code ein.\n",
    "Suchen Sie sich einen Lernpartner/eine Lernpartnerin und versuchen Sie, die folgenden Fragen zu beantworten. Tipp: Sie können die Antworten jeweils direkt unter die Fragen schreiben, indem Sie auf den Text doppelklicken.\n",
    "\n",
    "- Frage 1: Wie könnten Sie dem Programm zusätzliche Informationen wie Titel, Autor, Datum, etc. hinzufügen?\n",
    "\n",
    "- Frage 2: Ist es nötig, *jede* Zeile zu kommentieren?\n",
    "\n",
    "- Frage 3: Das Programm ignoriert alles nach dem #-Zeichen. Können Sie sich noch einen anderen Zweck ausdenken, wofür das nützlich sein könnte?\n",
    "\n",
    "### Aufgaben stellen\n",
    "Als nächstes wollen wir unserem Chatbot beibringen, uns Mathe-Aufgaben zu stellen. Ein Beispiel könnte so aussehen:"
   ]
  },
  {
   "cell_type": "code",
   "execution_count": 1,
   "metadata": {},
   "outputs": [
    {
     "name": "stdout",
     "output_type": "stream",
     "text": [
      "Was ergibt 2 + 2?\n",
      "4\n",
      "Well done\n"
     ]
    }
   ],
   "source": [
    "print(\"Was ergibt 2 + 2?\")\n",
    "answer = input ()\n",
    "answer = int(answer)\n",
    "if answer == 4:\n",
    "    print(\"Gut gemacht!\")\n",
    "else:\n",
    "    print(\"Leider nein\")"
   ]
  },
  {
   "cell_type": "markdown",
   "metadata": {},
   "source": [
    "### Aufgabe 3\n",
    "Probieren Sie das Programm oben (mindestens) zwei mal aus. Geben Sie einmal die richtige und einmal die falsche Antwort. Versuchen Sie, den Programmcode zu verstehen, indem Sie sich durch die folgenden Fragen arbeiten:\n",
    "1. `answer = input ()` was genau tut diese Zeile?\n",
    "1. `answer = int(answer)` erinnern Sie sich zurück ans letzte Arbeitsblatt. Da hatten wir das Thema Integer. Was könnte `int(answer)` machen?\n",
    "1. Versuchen Sie, anhand des Verhaltens des Programms zu interpretieren, was `if answer == 4` bedeuten könnte.\n",
    "1. Was bedeutet `else` auf deutsch übersetzt\n",
    "1. Was passiert, wenn Sie die Doppelpunkte nach `4`  oder `else` weglassen?\n",
    "\n",
    "### Aufgabe 4\n",
    "Nun bringen wir alles zusammen. Programmieren Sie im Feld untendran einen Chatbot, der jemanden auf seine/ihre Kenntnisse der 7er-Reihe abfragen kann. Das Programm sollte mindestens 5 Fragen enthalten, einen Überschrifts-Kommentar mit Ihrem Namen, Datum und einer kurzen Beschreibung des Programms. \n",
    "Wenn Sie fertig sind, verleichen Sie Ihr Programm mit dem eines Lernpartners/einer Lernpartnerin."
   ]
  }
 ],
 "metadata": {
  "kernelspec": {
   "display_name": "Python 3",
   "language": "python",
   "name": "python3"
  },
  "language_info": {
   "codemirror_mode": {
    "name": "ipython",
    "version": 3
   },
   "file_extension": ".py",
   "mimetype": "text/x-python",
   "name": "python",
   "nbconvert_exporter": "python",
   "pygments_lexer": "ipython3",
   "version": "3.7.3"
  }
 },
 "nbformat": 4,
 "nbformat_minor": 4
}
