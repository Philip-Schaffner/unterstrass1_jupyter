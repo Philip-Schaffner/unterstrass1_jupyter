{
 "cells": [
  {
   "cell_type": "markdown",
   "metadata": {},
   "source": [
    "# Abb 3: Python als Taschenrechner\n",
    "Mit einem Computer lässt es sich auch ganz formidabel rechnen. So kann ich bspw. das Resultat von 2+2 ausrechnen mit diesem Befehl hier:"
   ]
  },
  {
   "cell_type": "code",
   "execution_count": 1,
   "metadata": {},
   "outputs": [
    {
     "name": "stdout",
     "output_type": "stream",
     "text": [
      "4\n"
     ]
    }
   ],
   "source": [
    "print(2 + 2)"
   ]
  },
  {
   "cell_type": "markdown",
   "metadata": {},
   "source": [
    "### Aufgabe 1\n",
    "Versuchen Sie, im obigen Fenster die folgenden Resultate zu berechnen:\n",
    "- 156 plus 567\n",
    "- 132 minus 46\n",
    "- 256 geteilt durch 8\n",
    "- 389 mal 13\n",
    "\n",
    "### Aufgabe 2\n",
    "Beim Programmieren werden ganze Zahlen (ohne Kommastellen) *Integer* genannt. Das bedeutet, 4.0 ist *kein* Integer, 4 aber schon. Integer können ebenfalls in Variablen gespeichert werden.\n",
    "\n",
    "Das probieren wir nun aus, um unsere Rechnung im Restaurant zu addieren:"
   ]
  },
  {
   "cell_type": "code",
   "execution_count": 2,
   "metadata": {},
   "outputs": [
    {
     "name": "stdout",
     "output_type": "stream",
     "text": [
      "20\n"
     ]
    }
   ],
   "source": [
    "pizza = 15\n",
    "getraenk = 5\n",
    "salat = 8\n",
    "print(pizza + getraenk)"
   ]
  },
  {
   "cell_type": "markdown",
   "metadata": {},
   "source": [
    "Wir haben ausgerechnet, was uns Pizza und Getränk gekostet haben. Rechnen Sie im obigen Beispiel noch aus, was Getränk plus Salat zusammen kosten und wieviel die Gesamtrechnung ist.\n",
    "Versuchen Sie im Anschluss noch auszurechnen, wieviel jede/r bezahlen muss, wenn Sie zu viert im Restaurant waren und die Rechnung durch 4 teilen."
   ]
  }
 ],
 "metadata": {
  "kernelspec": {
   "display_name": "Python 3",
   "language": "python",
   "name": "python3"
  },
  "language_info": {
   "codemirror_mode": {
    "name": "ipython",
    "version": 3
   },
   "file_extension": ".py",
   "mimetype": "text/x-python",
   "name": "python",
   "nbconvert_exporter": "python",
   "pygments_lexer": "ipython3",
   "version": "3.7.3"
  }
 },
 "nbformat": 4,
 "nbformat_minor": 4
}
