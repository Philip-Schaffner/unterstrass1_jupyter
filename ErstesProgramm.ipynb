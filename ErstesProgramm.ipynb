{
 "cells": [
  {
   "cell_type": "markdown",
   "metadata": {},
   "source": [
    "# Herzlich willkommen zu Ihrem ersten Python programm\n",
    "(Falls Sie noch nie vorher Python programmiert haben. Sonst: Herzlich willkommen zurück :-))\n",
    "\n",
    "Sie arbeiten hier in einem sogenannten \"Jupyter-Notebook\". Das ist ein Notebook, in dem Sie Programmcode direkt in Ihrem Browser laufen lassen können. Wir probieren das gleich einmal aus!\n",
    "\n",
    "### Aufgabe 1\n",
    "Im Rahmen untendran, tippen Sie ein: \n",
    "```python\n",
    "print(\"Hello World\") \n",
    "```\n",
    "Dann klicken Sie auf den \"Play\"-Knopf direkt auf der linken Seite daneben. Achten Sie darauf, den Code exakt so abzutippen, wie er da steht!"
   ]
  },
  {
   "cell_type": "code",
   "execution_count": null,
   "metadata": {},
   "outputs": [],
   "source": []
  },
  {
   "cell_type": "markdown",
   "metadata": {},
   "source": [
    "Direkt unter dem Programmcode sollte der Text \"Hello World\" erscheinen. Wenn das geklappt hat: Gratulation! Alles richtig gemacht! Was Sie da sehen, ist die **Ausgabe** des Programms, das Sie gerade programmiert haben.\n",
    "\n",
    "### Aufgabe 2\n",
    "Nun wollen wir einmal probieren, was passiert, wenn wir _nicht_ alles richtig machen. Tippen Sie unten mal den Code ein: \n",
    "```python\n",
    "print(Hello World)\n",
    "```\n",
    "Wenn Sie den Code ausführen (wiederum mit dem Play-Knopf), erscheint eine Fehlermeldung: SyntaxError: invalid syntax. Probieren Sie es aus! "
   ]
  },
  {
   "cell_type": "code",
   "execution_count": null,
   "metadata": {},
   "outputs": [],
   "source": []
  },
  {
   "cell_type": "markdown",
   "metadata": {},
   "source": [
    "Computer sind Maschinen, die sehr \"buchstäblich\" sind, wenn es darum geht, Anweisungen zu befolgen. Menschen sind selten so engstirnig. Computer sind nicht gut im Umgang mit \"fast\", \"nah dran\" und \"nicht ganz\" wie wir Menschen. Die Regeln, die die Art und Weise bestimmen, wie Anweisungen und Befehle geschrieben werden müssen, nennen wir **Syntax**. Python ist bekannt dafür, dass es Syntaxfehler besser verzeiht als viele andere Programmiersprachen. Dies kann das Erlernen erleichtern, weil man weniger Zeit aufwenden muss, Fehler zu finden (dieser Schritt nennt man **debugging**). \n",
    "Jupyter (das Notebook, in dem Sie gerade arbeiten) hat sogenanntes _Syntax-Highlighting_, das automatisch verschiedenen Elementen Farben zuweist. z.B. sollte der Text \"Hello World\" grün sein. Dieser sollte\n",
    "helfen, einige einfache Fehler bei der Eingabe von Befehlen zu erkennen.\n",
    "\n",
    "### Aufgabe 3\n",
    "Um eine besser Vorstellung von _Syntaxfehlern_ zu bekommen, schauen Sie sich mal die folgenden Code-Beispiele an.\n",
    "```python\n",
    "print\"Hello World\"\n",
    "print(\"Hello World\");\n",
    "Print(\"Hello World\")\n",
    "print(\"Hel World\")\n",
    "prin(Hello World)\n",
    "```\n",
    "Versuchen Sie für jedes Beispiel, sich erst auszudenken, was wohl passieren wird. Dann tippen Sie die Zeilen des Codes jeweils einzeln unten ein und probieren es aus."
   ]
  },
  {
   "cell_type": "code",
   "execution_count": null,
   "metadata": {},
   "outputs": [],
   "source": []
  },
  {
   "cell_type": "markdown",
   "metadata": {},
   "source": [
    "Können Sie ein Muster erkennen, welche Befehle funktionieren, und welche nicht?"
   ]
  },
  {
   "cell_type": "markdown",
   "metadata": {},
   "source": [
    "### Aufgabe 4\n",
    "Bisher waren unsere Programme etwas eintönig, da sie nur aus einer Zeile Code bestanden. Nun wollen wir uns mal mit einem richtigen Programm auseinandersetzen. Schauen Sie sich das Programm unten an und versuchen Sie, sich vorzustellen, was es tun könnte. Keine Angst, wenn Sie nicht draufkommen, eigentlich können Sie es gar nicht wissen!\n",
    "Klicken Sie auf den Play-Button und schauen Sie, was passiert (wenn Sie Ihren Namen eingeben, schliessen Sie mit der Eingabetaste ab)."
   ]
  },
  {
   "cell_type": "code",
   "execution_count": null,
   "metadata": {},
   "outputs": [
    {
     "name": "stdout",
     "output_type": "stream",
     "text": [
      "Bitte gib deinen Namen ein: \n"
     ]
    }
   ],
   "source": [
    "print(\"Bitte gib deinen Namen ein: \")\n",
    "my_name = input ()\n",
    "ausgabeText = \"schön, dich kennenzulernen, \" + my_name\n",
    "print(ausgabeText)"
   ]
  },
  {
   "cell_type": "markdown",
   "metadata": {},
   "source": [
    "Sie sollten die folgende Ausgabe sehen (natürlich mit Ihrem Namen):\n",
    "```\n",
    "Please type your name in\n",
    "Goofy\n",
    "Nice to meet you Goofy\n",
    "```\n",
    "Dieses Programm geht nun durch alle Schritte eines Computerprogrammes:\n",
    "**E**ingabe\n",
    "**V**erarbeitung\n",
    "**A**usgabe\n",
    "Deswegen sagt man auch, Computerprogramme arbeiten nach dem sogenannten **EVA**-Prinzip. *Eingabe* kann durch Benutzer (Tastatur, Maus, etc.) passieren. In unserem Fall hier ist die Eingabe der Moment, in dem das Programm Ihren eingetippten Namen entgegen nimmt. Bei der Verarbeitung wir diese Eingabe zu einem bestehenden Text hinzugefügt. Im Anschluss führt die \"print\"-Anweisung zu einer Ausgabe."
   ]
  },
  {
   "cell_type": "code",
   "execution_count": null,
   "metadata": {},
   "outputs": [],
   "source": []
  }
 ],
 "metadata": {
  "kernelspec": {
   "display_name": "Python 3",
   "language": "python",
   "name": "python3"
  },
  "language_info": {
   "codemirror_mode": {
    "name": "ipython",
    "version": 3
   },
   "file_extension": ".py",
   "mimetype": "text/x-python",
   "name": "python",
   "nbconvert_exporter": "python",
   "pygments_lexer": "ipython3",
   "version": "3.7.3"
  }
 },
 "nbformat": 4,
 "nbformat_minor": 4
}
