{
 "cells": [
  {
   "cell_type": "markdown",
   "metadata": {},
   "source": [
    "# Punkte zählen\n",
    "Im letzten Arbeitsblatt haben Sie ein Mathe-Quiz gemacht. Das hat etwa so ausgesehen:"
   ]
  },
  {
   "cell_type": "code",
   "execution_count": null,
   "metadata": {},
   "outputs": [],
   "source": [
    "print(\"Was gibt 2 + 2?\")\n",
    "answer = input ()\n",
    "answer = int(answer)\n",
    "if answer == 4:\n",
    "    print(\"Gut gemacht\")\n",
    "else:\n",
    "    print(\"Leider nein\")"
   ]
  },
  {
   "cell_type": "markdown",
   "metadata": {},
   "source": [
    "### Aufgabe 1\n",
    "Mit nur wenigen zusätzlichen Zeilen Code können wir dem Spiel einen Punktestand geben, den wir führen können. Dafür brauchen wir einen neue *Variable* namens **punktestand**. In der ersten Zeile des Programms wollen wir diese Variable ins Leben rufen und ihr den Wert 0 geben.\n",
    "``` python\n",
    "punktestand = 0\n",
    "```\n",
    "Am Ende des Programms soll der Punktestand ausgegeben werden. Bspw. mit\n",
    "```python\n",
    "print(punktestand)\n",
    "```\n",
    "Sie können sicher auch eine bessere Ausgabe machen, die nicht bloss aus einer Zahl besteht!\n",
    "Wenn wir das Programm jetzt laufen lassen, sehen wir am Ende Null Punkte - das war noch nicht so spannend. Deswegen wollen wir nun unseren Punktestand um 1 erhöhen, wenn die Frage richtig beantwortet wurde. Dafür fügen wir nach der Ausgabe \"Gut gemacht\" die folgende Zeile ein: \n",
    "```python\n",
    "    punktestand = punktestand + 1 #erhöht den Punktestand um 1\n",
    "```\n",
    "Hierbei müssen Sie auf die Einrückung achten! Diese Zeile muss gleich weit nach rechts eingerückt sein, wie die \"print\"-Anweisung.\n",
    "Diesen Code wollen wir jetzt einmal verstehen. Alles nach dem # ist Kommentar, trägt also nichts zur Verarbeitung bei. Aber vornedran passiert etwas spannendes: Hier wird der Variable ```punktestand``` ihr eigener Wert + 1 zugewiesen. Es wird also geschaut \"was ist der aktuelle Wert von ```punktestand```, dann 1 dazu addiert und das Resultat *zurück in die Variable ```punktestand``` gespeichert*."
   ]
  },
  {
   "cell_type": "markdown",
   "metadata": {},
   "source": [
    "### Aufgabe 2\n",
    "Im letzten Arbeitsblatt haben Sie ein Mathequiz programmiert, das die 7er-Reihe abfragt. Kopieren Sie den Code von diesem Programm in die Zelle untendran und *erweitern* Sie das Programm um einen Punktestand (wie in Aufgabe 1), der sich bei jeder richtigen Antwort um 1 erhöht. Am Ende des Programms sollte man sehen können, wieviele Punkte man gemacht hat. (Wenn Sie richtig fies sein wollen, können Sie auch noch nach jeder falsch beantworteten Frage einen Punkt abziehen)."
   ]
  },
  {
   "cell_type": "code",
   "execution_count": null,
   "metadata": {},
   "outputs": [],
   "source": []
  },
  {
   "cell_type": "markdown",
   "metadata": {},
   "source": [
    "### Aufgabe 3\n",
    "Anstatt nur den Punktestand zurückzugeben, wäre es aber natürlich viel beeindruckender, wenn wir eine entsprechende Rückmeldung geben könnten, je nachdem, wie hoch der Punktestand ist. Wenn man bspw. 4 oder mehr Punkte macht, steht da \"Gut gemacht!\", im anderen Fall \"Oje...\". Überlegenen Sie sich mal, wie der Code dafür strukturiert sein müsste.\n",
    "\n",
    "Tipp: Sie brauchen dafür eine Fallunterscheidung (wenn... dann...; sonst... ). Eine solche haben Sie schon programmiert: Da, wo Sie entscheiden, ob die eingegebene Antwort richtig ist (wenn/if *die Antwort korrekt ist* dann *tu etwas*, sonst/else *tu etwas anderes*). \n",
    "\n",
    "Probieren Sie , dies im obenstehenden Code einzubauen und lesen Sie nur weiter, wenn Sie Probleme haben.\n",
    "Schauen Sie sich mal diese Hilfestellung hier an:\n",
    "```python\n",
    "punktestand = 0\n",
    "if punktestand > 2:\n",
    "    print(\"Gut gemacht!\")\n",
    "else:\n",
    "    print(\"Oje\")\n",
    "```\n",
    "Dieser Code setzt erst die Variable ```punktestand``` auf den Wert 0 und entscheidet dann, was ausgegeben werden soll. Testen Sie das Programm, indem Sie in der obersten Zeile den Punktestand auf verschiedene Werte setzen."
   ]
  }
 ],
 "metadata": {
  "kernelspec": {
   "display_name": "Python 3",
   "language": "python",
   "name": "python3"
  },
  "language_info": {
   "codemirror_mode": {
    "name": "ipython",
    "version": 3
   },
   "file_extension": ".py",
   "mimetype": "text/x-python",
   "name": "python",
   "nbconvert_exporter": "python",
   "pygments_lexer": "ipython3",
   "version": "3.7.3"
  }
 },
 "nbformat": 4,
 "nbformat_minor": 4
}
